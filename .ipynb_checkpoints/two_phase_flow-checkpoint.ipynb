{
 "cells": [
  {
   "cell_type": "code",
   "execution_count": 2,
   "metadata": {
    "collapsed": true
   },
   "outputs": [],
   "source": [
    "import math\n",
    "import numpy as np\n",
    "import pandas as pd\n",
    "import matplotlib.pyplot as plt"
   ]
  },
  {
   "cell_type": "code",
   "execution_count": 20,
   "metadata": {},
   "outputs": [
    {
     "name": "stdout",
     "output_type": "stream",
     "text": [
      "please insert the left value of U:0\n",
      "please insert the right value of U:0\n",
      "please insert the left value of density:950\n",
      "please insert the right value of density:850\n",
      "please insert the left value of pressure:150000\n",
      "please insert the right value of pressure:120000\n",
      "please insert the sound velocity in gas:340\n",
      "please insert the incompressible liquid density:1000\n"
     ]
    }
   ],
   "source": [
    "#gamma = ratio of specific heat\n",
    "UL = float(input('please insert the left value of U:'))\n",
    "UR = float(input('please insert the right value of U:'))\n",
    "rho_L = float(input('please insert the left value of density:'))\n",
    "rho_R = float(input('please insert the right value of density:'))\n",
    "PL = float(input('please insert the left value of pressure:'))\n",
    "PR = float(input('please insert the right value of pressure:'))\n",
    "a = float(input('please insert the sound velocity in gas:'))\n",
    "rhol= float(input('please insert the incompressible liquid density:'))\n",
    "#Time  = float(input('please insert the time  between zero and infinity(for example 10):'))\n",
    "#Delta_T = float(input('please insert the time interval between each computing point:'))\n",
    "#X_interval = float(input('please insert the lenght interval.(for example if you put 8 , it will consider +8 to -8:'))\n",
    "#Delta_X = float(input('please insert the x interval between each computing point:'))"
   ]
  },
  {
   "cell_type": "code",
   "execution_count": 21,
   "metadata": {
    "collapsed": true
   },
   "outputs": [],
   "source": [
    "yL = ((PL*rhol)-(PL*rho_L))/((rho_L*rhol*(a**2))-(PL*rho_L))\n",
    "yR = ((PR*rhol)-(PR*rho_R))/((rho_R*rhol*(a**2))-(PR*rho_R))"
   ]
  },
  {
   "cell_type": "code",
   "execution_count": 22,
   "metadata": {
    "collapsed": true
   },
   "outputs": [],
   "source": [
    "def function_fL(p):\n",
    "    if p > PL:\n",
    "        f = -1*math.sqrt(((PL/(p*rho_L))-((PL*(1-yL))/(p*rhol))+((1-yL)/rhol)-(1/(rho_L)))*(PL-p))\n",
    "    if p <= PL:\n",
    "        f = a*math.sqrt(yL)*math.log(((PL/(p*rho_L))-((PL*(1-yL))/(p*rhol)))*(rho_L/(1-((1-yL)/rhol)*rho_L)))\n",
    "    return f\n",
    "\n",
    "def function_fR(p):\n",
    "    if p > PR:\n",
    "        f =  math.sqrt(((PR/(p*rho_R))-((PR*(1-yR))/(p*rhol))+((1-yR)/rhol)-(1/(rho_R)))*(PR-p))\n",
    "    if p <= PR:\n",
    "        f = -1*a*math.sqrt(yR)*math.log(((PR/(p*rho_R))-((PR*(1-yR))/(p*rhol)))*(rho_R/(1-((1-yR)/rhol)*rho_R)))\n",
    "    return f\n",
    "def function(p):\n",
    "    \n",
    "    f= function_fL(p) - function_fR(p) + UL-UR\n",
    "    return f\n",
    "def function_fL_der(p):\n",
    "    if p > PL:\n",
    "        \n",
    "        f = -0.5*((((PL/(p*rho_L))-((PL*(1-yL))/(p*rhol))+((1-yL)/rhol)-(1/(rho_L)))*(PL-p))**(-0.5))*(((-p**(-2))*((PL/rho_L)-(PL*(1-yL)/rhol))*(PL-p))-(((PL/(p*rho_L))-((PL*(1-yL))/(p*rhol))+((1-yL)/rhol)-(1/(rho_L)))))\n",
    "    \n",
    "    if p <= PL:\n",
    "        \n",
    "        f = a*math.sqrt(yL)*(((-p**(-2))*((PL/rho_L)-((PL/rhol)*(1-yL))))/((PL/(p*rho_L))-((PL*(1-yL))/(p*rhol))))\n",
    "        \n",
    "    return f\n",
    "\n",
    "def function_fR_der(p):\n",
    "    \n",
    "    if p > PR:\n",
    "        \n",
    "        f = 0.5*((((PR/(p*rho_R))-((PR*(1-yR))/(p*rhol))+((1-yR)/rhol)-(1/(rho_R)))*(PR-p))**(-0.5))*(((-p**(-2))*((PR/rho_R)-(PR*(1-yR)/rhol))*(PR-p))-(((PR/(p*rho_R))-((PR*(1-yR))/(p*rhol))+((1-yR)/rhol)-(1/(rho_R)))))\n",
    "        \n",
    "    if p <=PR:\n",
    "        \n",
    "        f = -1*a*math.sqrt(yR)*(((-p**(-2))*((PR/rho_R)-((PR/rhol)*(1-yR))))/((PR/(p*rho_R))-((PR*(1-yR))/(p*rhol))))\n",
    "        \n",
    "    return f\n",
    "\n",
    "def function_der(p):\n",
    "    \n",
    "    f = function_fL_der(p) - function_fR_der(p)\n",
    "    \n",
    "    return f\n",
    "def func_c(rho,y):\n",
    "    f = (rhol*a*math.sqrt(y)/(rhol-(rho*(1-y))))\n",
    "    return f"
   ]
  },
  {
   "cell_type": "code",
   "execution_count": 23,
   "metadata": {},
   "outputs": [
    {
     "data": {
      "image/png": "[encoded data removed]",
      "text/plain": [
       "<matplotlib.figure.Figure at 0x282a5cb0d68>"
      ]
     },
     "metadata": {},
     "output_type": "display_data"
    }
   ],
   "source": [
    "i = np.arange(100000,200000,1)\n",
    "d = np.array([])\n",
    "\n",
    "for k in i :\n",
    "    d =  np.append(d,function(float(k)))\n",
    "   \n",
    "plt.plot(i,d)\n",
    "\n",
    "plt.show()"
   ]
  },
  {
   "cell_type": "code",
   "execution_count": 24,
   "metadata": {
    "collapsed": true
   },
   "outputs": [],
   "source": [
    "def newton_solver(guess,TOL):\n",
    "    x1 = guess+1\n",
    "    x2 = guess\n",
    "    i=0\n",
    "    while abs(x1-x2) > TOL:\n",
    "        i=i+1\n",
    "        x1 = x2\n",
    "        x2 = x1 - (function(x1)/function_der(x1))\n",
    "        \n",
    "    return x2,i"
   ]
  },
  {
   "cell_type": "code",
   "execution_count": 25,
   "metadata": {},
   "outputs": [
    {
     "data": {
      "text/plain": [
       "130591.98290173429"
      ]
     },
     "execution_count": 25,
     "metadata": {},
     "output_type": "execute_result"
    }
   ],
   "source": [
    "pm = newton_solver(120000,0.001)[0]\n",
    "pm"
   ]
  },
  {
   "cell_type": "code",
   "execution_count": 26,
   "metadata": {},
   "outputs": [
    {
     "data": {
      "text/plain": [
       "0.3895656976296392"
      ]
     },
     "execution_count": 26,
     "metadata": {},
     "output_type": "execute_result"
    }
   ],
   "source": [
    "um = 0.5*(UR+UL)+0.5*(function_fL(pm)+function_fR(pm))\n",
    "um"
   ]
  },
  {
   "cell_type": "code",
   "execution_count": 27,
   "metadata": {
    "collapsed": true
   },
   "outputs": [],
   "source": [
    "rho_m_L = (pm*rho_L*rhol)/((PL*rhol)-(PL*rho_L*(1-yL))+(pm*rho_L*(1-yL)))\n",
    "rho_m_R = (pm*rho_R*rhol)/((PR*rhol)-(PR*rho_R*(1-yR))+(pm*rho_R*(1-yR)))"
   ]
  },
  {
   "cell_type": "code",
   "execution_count": 28,
   "metadata": {},
   "outputs": [],
   "source": [
    "SL=(((rho_m_L*um)-(rho_L*UL))/(rho_m_L-rho_L))\n",
    "SR=(((rho_m_R*um)-(rho_R*UR))/(rho_m_R-rho_R))"
   ]
  },
  {
   "cell_type": "code",
   "execution_count": 31,
   "metadata": {},
   "outputs": [],
   "source": [
    "SL"
   ]
  },
  {
   "cell_type": "code",
   "execution_count": 32,
   "metadata": {},
   "outputs": [
    {
     "data": {
      "text/plain": [
       "31.987303889441712"
      ]
     },
     "execution_count": 32,
     "metadata": {},
     "output_type": "execute_result"
    }
   ],
   "source": [
    "SR"
   ]
  },
  {
   "cell_type": "code",
   "execution_count": null,
   "metadata": {
    "collapsed": true
   },
   "outputs": [],
   "source": []
  }
 ],
 "metadata": {
  "kernelspec": {
   "display_name": "Python 3",
   "language": "python",
   "name": "python3"
  },
  "language_info": {
   "codemirror_mode": {
    "name": "ipython",
    "version": 3
   },
   "file_extension": ".py",
   "mimetype": "text/x-python",
   "name": "python",
   "nbconvert_exporter": "python",
   "pygments_lexer": "ipython3",
   "version": "3.6.2"
  }
 },
 "nbformat": 4,
 "nbformat_minor": 2
}
